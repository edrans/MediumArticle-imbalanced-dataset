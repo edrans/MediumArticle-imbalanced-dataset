{
 "cells": [
  {
   "cell_type": "markdown",
   "id": "e419354e",
   "metadata": {},
   "source": [
    "# Set up SageMaker Environment"
   ]
  },
  {
   "cell_type": "code",
   "execution_count": null,
   "id": "73d8c9f1",
   "metadata": {
    "scrolled": true
   },
   "outputs": [],
   "source": [
    "import sys\n",
    "\n",
    "!{sys.executable} -m pip install imbalanced-learn --upgrade"
   ]
  },
  {
   "cell_type": "code",
   "execution_count": null,
   "id": "a79f3c68",
   "metadata": {},
   "outputs": [],
   "source": [
    "#Set-up Sagemaker Environment:\n",
    "\n",
    "import sagemaker #Import SageMaker Framework\n",
    "\n",
    "sess = sagemaker.Session()\n",
    "\n",
    "bucket = \"rzoghbi-medium-smote-article-dataset\" #Replace with the bucket where your Data is located.\n",
    "subfolder = \"\" #Prefix \n",
    "\n",
    "#\n",
    "\n",
    "# Define IAM role\n",
    "import boto3 # AWS Python SDK\n",
    "from sagemaker import get_execution_role #Defined when you create your instance\n",
    "import os\n",
    "\n",
    "role = get_execution_role()\n",
    "\n",
    "#Note: The execution role is only available when running a notebook within SageMaker. \n",
    "#If you run get_execution_role in a notebook not on SageMaker, expect a region error.\n",
    "\n",
    "print(role)"
   ]
  },
  {
   "cell_type": "markdown",
   "id": "cfa45956",
   "metadata": {},
   "source": [
    "# Import Required packages"
   ]
  },
  {
   "cell_type": "code",
   "execution_count": null,
   "id": "78e8e8d9",
   "metadata": {},
   "outputs": [],
   "source": [
    "import pandas as pd\n",
    "import numpy as np\n",
    "import matplotlib.pyplot as plt\n",
    "import io\n",
    "import os\n",
    "import sys\n",
    "import time\n",
    "import json\n",
    "from IPython.display import display\n",
    "from time import strftime, gmtime\n",
    "from sagemaker.inputs import TrainingInput\n",
    "from sagemaker.serializers import CSVSerializer\n",
    "from sklearn.model_selection import train_test_split\n",
    "\n"
   ]
  },
  {
   "cell_type": "markdown",
   "id": "85cc4e4d",
   "metadata": {},
   "source": [
    "# Import XGBoost model docker image"
   ]
  },
  {
   "cell_type": "code",
   "execution_count": null,
   "id": "0bf2b16a",
   "metadata": {},
   "outputs": [],
   "source": [
    "container = sagemaker.image_uris.retrieve(\"xgboost\", boto3.Session().region_name, \"latest\")\n",
    "display(container)"
   ]
  },
  {
   "cell_type": "markdown",
   "id": "b2453098",
   "metadata": {},
   "source": [
    "### Test connection with S3 Bucket, if properly setup, you should see contents of the bucket"
   ]
  },
  {
   "cell_type": "code",
   "execution_count": null,
   "id": "f8137153",
   "metadata": {},
   "outputs": [],
   "source": [
    "conn = boto3.client('s3')\n",
    "contents = conn.list_objects(Bucket=bucket, Prefix=subfolder)['Contents']\n",
    "for f in contents:\n",
    "    print(f['Key'])"
   ]
  },
  {
   "cell_type": "markdown",
   "id": "85902003",
   "metadata": {},
   "source": [
    "# Model Training"
   ]
  },
  {
   "cell_type": "markdown",
   "id": "5454cd72",
   "metadata": {},
   "source": [
    "### To demonstrate performace of the different resampling methods, we will train and evaluate a predictor using the imbalanced dataset, rebalanced with SMOTE, rebalanced with KMeans SMOTE and rebalanced with SVM SMOTE"
   ]
  },
  {
   "cell_type": "markdown",
   "id": "4459d390",
   "metadata": {},
   "source": [
    "### This means that we will have 4 different (training/validation - test) processes\n",
    "#### train / validation : imbalanced\n",
    "#### train / validation : default SMOTE\n",
    "#### train / validation : KMeans SMOTE\n",
    "#### train / validation : SVM Smote\n",
    "#### train / validation : SMOTE ENN"
   ]
  },
  {
   "cell_type": "markdown",
   "id": "5af5c274",
   "metadata": {},
   "source": [
    " "
   ]
  },
  {
   "cell_type": "markdown",
   "id": "c31e5cff",
   "metadata": {},
   "source": [
    "## Model Training with Imbalanced Dataset"
   ]
  },
  {
   "cell_type": "markdown",
   "id": "48bc1c01",
   "metadata": {},
   "source": [
    "#### We will create TrainingInputs that our function can use as pointer to our files in S3"
   ]
  },
  {
   "cell_type": "code",
   "execution_count": null,
   "id": "4e156c0b",
   "metadata": {},
   "outputs": [],
   "source": [
    "#Import data from S3 buckets:\n",
    "\n",
    "#TrainingInputs \n",
    "s3_input_train = TrainingInput(\n",
    "    s3_data=\"s3://{}/train/\".format(bucket), content_type=\"csv\")\n",
    "\n",
    "#ValidationInputs \n",
    "s3_input_validation = TrainingInput(\n",
    "   s3_data=\"s3://{}/validation/\".format(bucket), content_type=\"csv\")"
   ]
  },
  {
   "cell_type": "markdown",
   "id": "902e9e27",
   "metadata": {},
   "source": [
    "## Setup_Hyperparameter_Tuning \n"
   ]
  },
  {
   "cell_type": "markdown",
   "id": "076ea99a",
   "metadata": {},
   "source": [
    "We will set up a hyper parameter tunning for each model training.\n",
    "This will even the working conditions of the algorithm, so each training procedure is done with the best set of hyper parameters"
   ]
  },
  {
   "cell_type": "code",
   "execution_count": null,
   "id": "1a504fe4",
   "metadata": {},
   "outputs": [],
   "source": [
    "from sagemaker.image_uris import retrieve\n",
    "\n",
    "training_image = retrieve(framework=\"xgboost\", region=boto3.Session().region_name, version=\"latest\")\n",
    "\n",
    "s3_input_train = \"s3://{}/train\".format(bucket, content_type=\"csv\")\n",
    "s3_input_validation = \"s3://{}/validation/\".format(bucket, content_type=\"csv\")"
   ]
  },
  {
   "cell_type": "code",
   "execution_count": null,
   "id": "006df80a",
   "metadata": {},
   "outputs": [],
   "source": [
    "from time import gmtime, strftime, sleep\n",
    "\n",
    "tuning_job_name = \"xgboost-tuningjob-\" + strftime(\"%d-%H-%M-%S\", gmtime())\n",
    "\n",
    "print(tuning_job_name)\n",
    "\n",
    "tuning_job_config = {\n",
    "    \"ParameterRanges\": {\n",
    "        \"CategoricalParameterRanges\": [],\n",
    "        \"ContinuousParameterRanges\": [\n",
    "            {\n",
    "                \"MaxValue\": \"1\",\n",
    "                \"MinValue\": \"0\",\n",
    "                \"Name\": \"eta\",\n",
    "            },\n",
    "            {\n",
    "                \"MaxValue\" : \"1\",\n",
    "                \"MinValue\" : \"0.1\",\n",
    "                \"Name\" : \"colsample_bylevel\"\n",
    "                \n",
    "            },\n",
    "            {\n",
    "                \"MaxValue\" : \"1\",\n",
    "                \"MinValue\" : \"0.5\",\n",
    "                \"Name\" : \"colsample_bytree\"\n",
    "            },\n",
    "            {\n",
    "                \"MaxValue\" : \"5\",\n",
    "                \"MinValue\" : \"0\",\n",
    "                \"Name\" : \"gamma\"\n",
    "            },\n",
    "            {\n",
    "                \"MaxValue\": \"120\",\n",
    "                \"MinValue\": \"1\",\n",
    "                \"Name\": \"min_child_weight\",\n",
    "            },\n",
    "            {\n",
    "                \"MaxValue\": \"1000\",\n",
    "                \"MinValue\": \"0\",\n",
    "                \"Name\": \"alpha\",\n",
    "            },\n",
    "            {\n",
    "                \"MaxValue\": \"1\",\n",
    "                \"MinValue\": \"0.5\",\n",
    "                \"Name\": \"subsample\",\n",
    "            }\n",
    "        ],\n",
    "        \"IntegerParameterRanges\": [\n",
    "            {\n",
    "                \"MaxValue\": \"10\",\n",
    "                \"MinValue\": \"0\",\n",
    "                \"Name\": \"max_depth\",\n",
    "            },\n",
    "            {\n",
    "                \"MaxValue\": \"10\",\n",
    "                \"MinValue\": \"0\",\n",
    "                \"Name\": \"max_delta_step\",\n",
    "            }\n",
    "        ],\n",
    "    },\n",
    "    \"ResourceLimits\": {\"MaxNumberOfTrainingJobs\": 8, \"MaxParallelTrainingJobs\": 2},\n",
    "    \"Strategy\": \"Bayesian\",\n",
    "    \"HyperParameterTuningJobObjective\": {\"MetricName\": \"validation:auc\", \"Type\": \"Maximize\"},\n",
    "}"
   ]
  },
  {
   "cell_type": "code",
   "execution_count": null,
   "id": "c8f6706a",
   "metadata": {},
   "outputs": [],
   "source": [
    "\n",
    "training_job_definition = {\n",
    "    \"AlgorithmSpecification\": {\"TrainingImage\": training_image, \"TrainingInputMode\": \"File\"},\n",
    "    \"InputDataConfig\": [\n",
    "        {\n",
    "            \"ChannelName\": \"train\",\n",
    "            \"CompressionType\": \"None\",\n",
    "            \"ContentType\": \"csv\",\n",
    "            \"DataSource\": {\n",
    "                \"S3DataSource\": {\n",
    "                    \"S3DataDistributionType\": \"FullyReplicated\",\n",
    "                    \"S3DataType\": \"S3Prefix\",\n",
    "                    \"S3Uri\": s3_input_train,\n",
    "                }\n",
    "            },\n",
    "        },\n",
    "        {\n",
    "            \"ChannelName\": \"validation\",\n",
    "            \"CompressionType\": \"None\",\n",
    "            \"ContentType\": \"csv\",\n",
    "            \"DataSource\": {\n",
    "                \"S3DataSource\": {\n",
    "                    \"S3DataDistributionType\": \"FullyReplicated\",\n",
    "                    \"S3DataType\": \"S3Prefix\",\n",
    "                    \"S3Uri\": s3_input_validation,\n",
    "                }\n",
    "            },\n",
    "        },\n",
    "    ],\n",
    "    \"OutputDataConfig\": {\"S3OutputPath\": \"s3://{}/output\".format(bucket)},\n",
    "    \"ResourceConfig\": {\"InstanceCount\": 1, \"InstanceType\": \"ml.m4.xlarge\", \"VolumeSizeInGB\": 10},\n",
    "    \"RoleArn\": role,\n",
    "    \"StaticHyperParameters\": {\n",
    "        \"eval_metric\": \"auc\",\n",
    "        \"num_round\": \"100\",\n",
    "        \"objective\": \"binary:logistic\",\n",
    "        \"rate_drop\": \"0.3\",\n",
    "        \"tweedie_variance_power\": \"1.4\",\n",
    "    },\n",
    "    \"StoppingCondition\": {\"MaxRuntimeInSeconds\": 43200},\n",
    "}"
   ]
  },
  {
   "cell_type": "code",
   "execution_count": null,
   "id": "864d626d",
   "metadata": {},
   "outputs": [],
   "source": [
    "smclient = boto3.Session().client(\"sagemaker\")"
   ]
  },
  {
   "cell_type": "code",
   "execution_count": null,
   "id": "13b2495f",
   "metadata": {},
   "outputs": [],
   "source": [
    "smclient.create_hyper_parameter_tuning_job(\n",
    "    HyperParameterTuningJobName=tuning_job_name,\n",
    "    HyperParameterTuningJobConfig=tuning_job_config,\n",
    "    TrainingJobDefinition=training_job_definition,\n",
    ")"
   ]
  },
  {
   "cell_type": "code",
   "execution_count": null,
   "id": "c1dbe566",
   "metadata": {},
   "outputs": [],
   "source": [
    "smclient.describe_hyper_parameter_tuning_job(HyperParameterTuningJobName=tuning_job_name)[\n",
    "    \"HyperParameterTuningJobStatus\"\n",
    "]"
   ]
  },
  {
   "cell_type": "code",
   "execution_count": null,
   "id": "4785a6cc",
   "metadata": {},
   "outputs": [],
   "source": [
    "# run this cell to check current status of hyperparameter tuning job\n",
    "tuning_job_result = smclient.describe_hyper_parameter_tuning_job(\n",
    "    HyperParameterTuningJobName=tuning_job_name\n",
    ")\n",
    "\n",
    "status = tuning_job_result[\"HyperParameterTuningJobStatus\"]\n",
    "if status != \"Completed\":\n",
    "    print(\"Reminder: the tuning job has not been completed.\")\n",
    "\n",
    "job_count = tuning_job_result[\"TrainingJobStatusCounters\"][\"Completed\"]\n",
    "print(\"%d training jobs have completed\" % job_count)\n",
    "\n",
    "objective = tuning_job_result[\"HyperParameterTuningJobConfig\"][\"HyperParameterTuningJobObjective\"]\n",
    "is_minimize = objective[\"Type\"] != \"Maximize\"\n",
    "objective_name = objective[\"MetricName\"]"
   ]
  },
  {
   "cell_type": "code",
   "execution_count": null,
   "id": "b6770445",
   "metadata": {
    "scrolled": true
   },
   "outputs": [],
   "source": [
    "from pprint import pprint\n",
    "\n",
    "if tuning_job_result.get(\"BestTrainingJob\", None):\n",
    "    print(\"Best model found so far:\")\n",
    "    pprint(tuning_job_result[\"BestTrainingJob\"])\n",
    "else:\n",
    "    print(\"No training jobs have reported results yet.\")"
   ]
  },
  {
   "cell_type": "markdown",
   "id": "2339a5f0",
   "metadata": {},
   "source": [
    "#### Set training parameters and launch training"
   ]
  },
  {
   "cell_type": "code",
   "execution_count": null,
   "id": "80becb85",
   "metadata": {},
   "outputs": [],
   "source": [
    "s3_input_train = TrainingInput(\n",
    "    s3_data=\"s3://{}/train/\".format(bucket), content_type=\"csv\")\n",
    "\n",
    "s3_input_validation = TrainingInput(\n",
    "   s3_data=\"s3://{}/validation/\".format(bucket), content_type=\"csv\")"
   ]
  },
  {
   "cell_type": "code",
   "execution_count": null,
   "id": "e734185e",
   "metadata": {},
   "outputs": [],
   "source": [
    "sess = sagemaker.Session()\n",
    "\n"
   ]
  },
  {
   "cell_type": "code",
   "execution_count": null,
   "id": "e13d702a",
   "metadata": {},
   "outputs": [],
   "source": [
    "xgb = sagemaker.estimator.Estimator(\n",
    "    container, #container = sagemaker.image_uris.retrieve(\"xgboost\", boto3.Session().region_name, \"latest\")\n",
    "    role, #role = arn:aws:iam::947941747067:role/service-role/AmazonSageMaker-ExecutionRole-20211124T165440\n",
    "    instance_count=1,\n",
    "    instance_type=\"ml.m4.xlarge\",\n",
    "    output_path=\"s3://{}/output\".format(bucket),\n",
    "    sagemaker_session=sess,\n",
    ")"
   ]
  },
  {
   "cell_type": "code",
   "execution_count": null,
   "id": "4b882507",
   "metadata": {},
   "outputs": [],
   "source": [
    "xgb.set_hyperparameters(\n",
    "    alpha=16.913041126287006),\n",
    "    colsample_bylevel=0.9195357961477112,\n",
    "    colsample_bytree=0.8625951683028819,\n",
    "    max_depth=6,\n",
    "    eta=0.3571425509611488,\n",
    "    gamma=0.3972934045288123,\n",
    "    min_child_weight=100.38786351113177,\n",
    "    objective=\"binary:logistic\",\n",
    "    eval_metric= \"auc\", \n",
    "    num_round=100,\n",
    "    max_delta_step=5,\n",
    "    subsample=0.5\n",
    ")"
   ]
  },
  {
   "cell_type": "code",
   "execution_count": null,
   "id": "fc6db9ce",
   "metadata": {},
   "outputs": [],
   "source": [
    "sess = sagemaker.Session()\n",
    "\n",
    "xgb = sagemaker.estimator.Estimator(\n",
    "    container, #container = sagemaker.image_uris.retrieve(\"xgboost\", boto3.Session().region_name, \"latest\")\n",
    "    role, #role = arn:aws:iam::947941747067:role/service-role/AmazonSageMaker-ExecutionRole-20211124T165440\n",
    "    instance_count=1,\n",
    "    instance_type=\"ml.m4.xlarge\",\n",
    "    output_path=\"s3://{}/output\".format(bucket),\n",
    "    sagemaker_session=sess,\n",
    ")\n",
    "\n",
    "\n",
    "xgb.set_hyperparameters(\n",
    "    alpha=16.913041126287006,\n",
    "    colsample_bylevel=0.9195357961477112,\n",
    "    colsample_bytree=0.8625951683028819,\n",
    "    max_depth=6,\n",
    "    eta=0.3571425509611488,\n",
    "    gamma=0.3972934045288123,\n",
    "    min_child_weight=100.38786351113177,\n",
    "    objective=\"binary:logistic\",\n",
    "    eval_metric= \"auc\", \n",
    "    num_round=100,\n",
    "    max_delta_step=5,\n",
    "    subsample=0.5\n",
    ")\n",
    "\n",
    "\n",
    "xgb.fit({\"train\": s3_input_train, \"validation\": s3_input_validation})"
   ]
  },
  {
   "cell_type": "markdown",
   "id": "53b55f92",
   "metadata": {},
   "source": [
    "### Review training Metrics"
   ]
  },
  {
   "cell_type": "code",
   "execution_count": null,
   "id": "a6c6501a",
   "metadata": {
    "scrolled": true
   },
   "outputs": [],
   "source": [
    "%matplotlib inline\n",
    "from sagemaker.analytics import TrainingJobAnalytics\n",
    "\n",
    "training_job_name = xgb._current_job_name\n",
    "metric_name = ['train:auc','validation:auc']\n",
    "\n",
    "metrics_dataframe = TrainingJobAnalytics(training_job_name=training_job_name,metric_names=metric_name).dataframe()\n",
    "#plt = metrics_dataframe.plot(kind='line', figsize=(12,5), x='timestamp', y='value', style='b.', legend=False)\n",
    "#plt.set_ylabel(metric_name);\n",
    "metrics_dataframe"
   ]
  },
  {
   "cell_type": "markdown",
   "id": "28be94a5",
   "metadata": {},
   "source": [
    "### Review performance on Test Dataset"
   ]
  },
  {
   "cell_type": "markdown",
   "id": "b8faeb51",
   "metadata": {},
   "source": [
    "#### With our model trained, let's deploy it to a hosted endpoint"
   ]
  },
  {
   "cell_type": "code",
   "execution_count": null,
   "id": "d0557be9",
   "metadata": {
    "scrolled": true
   },
   "outputs": [],
   "source": [
    "xgb_predictor = xgb.deploy(\n",
    "    initial_instance_count=1, instance_type=\"ml.m4.xlarge\", serializer=CSVSerializer()\n",
    ")"
   ]
  },
  {
   "cell_type": "code",
   "execution_count": null,
   "id": "858d73d8",
   "metadata": {},
   "outputs": [],
   "source": [
    "data_key = 'test/test.csv'\n",
    "data_location = 's3://{}/{}'.format(bucket, data_key)\n",
    "\n",
    "test_data = pd.read_csv(data_location, sep=',', header=None)\n",
    "test_data"
   ]
  },
  {
   "cell_type": "code",
   "execution_count": null,
   "id": "ee29e6dd",
   "metadata": {},
   "outputs": [],
   "source": [
    "test_data.to_numpy()[:, 1:]"
   ]
  },
  {
   "cell_type": "code",
   "execution_count": null,
   "id": "200935fe",
   "metadata": {},
   "outputs": [],
   "source": [
    "def predict(data, rows=500):\n",
    "    split_array = np.array_split(data, int(data.shape[0] / float(rows) + 1))\n",
    "    predictions = \"\"\n",
    "    for array in split_array:\n",
    "        predictions = \",\".join([predictions, xgb_predictor.predict(array).decode(\"utf-8\")])\n",
    "\n",
    "    return np.fromstring(predictions[1:], sep=\",\")\n",
    "\n",
    "\n",
    "predictions = predict(test_data.to_numpy()[:, 1:])"
   ]
  },
  {
   "cell_type": "code",
   "execution_count": null,
   "id": "4b88f3ee",
   "metadata": {},
   "outputs": [],
   "source": [
    "predictions.max()"
   ]
  },
  {
   "cell_type": "code",
   "execution_count": null,
   "id": "856cba77",
   "metadata": {
    "scrolled": true
   },
   "outputs": [],
   "source": [
    "from sklearn.metrics import precision_recall_fscore_support as score\n",
    "\n",
    "y_test = test_data.iloc[:, 0]\n",
    "y_pred = np.where(predictions > 0.03, 1, 0)\n",
    "\n",
    "precision, recall, fscore, support = score(y_test, y_pred)\n",
    "\n",
    "print('precision: {}'.format(precision))\n",
    "print('recall: {}'.format(recall))\n",
    "print('fscore: {}'.format(fscore))\n",
    "print('support: {}'.format(support))"
   ]
  },
  {
   "cell_type": "code",
   "execution_count": null,
   "id": "b19fad24",
   "metadata": {
    "scrolled": true
   },
   "outputs": [],
   "source": [
    "df_cm = pd.crosstab(\n",
    "    index=test_data.iloc[:, 0],\n",
    "    columns=np.round(predictions),\n",
    "    rownames=[\"actual\"],\n",
    "    colnames=[\"predictions\"],\n",
    ")\n",
    "\n",
    "\n",
    "import seaborn as sn\n",
    "sn.set(font_scale=1.4)\n",
    "sn.heatmap(df_cm, annot=True, annot_kws={\"size\": 16}, fmt='g')"
   ]
  },
  {
   "cell_type": "markdown",
   "id": "2ba1cf52",
   "metadata": {},
   "source": [
    " "
   ]
  },
  {
   "cell_type": "markdown",
   "id": "4081d12d",
   "metadata": {},
   "source": [
    " "
   ]
  },
  {
   "cell_type": "markdown",
   "id": "4e0d630a",
   "metadata": {},
   "source": [
    " "
   ]
  },
  {
   "cell_type": "markdown",
   "id": "e1462360",
   "metadata": {},
   "source": [
    "## Model Training with Default-SMOTE Resampled Dataset"
   ]
  },
  {
   "cell_type": "markdown",
   "id": "762488a2",
   "metadata": {},
   "source": [
    "#### Set training parameters and launch training"
   ]
  },
  {
   "cell_type": "code",
   "execution_count": null,
   "id": "26f799e7",
   "metadata": {},
   "outputs": [],
   "source": [
    "#Import data from S3 buckets:\n",
    "\n",
    "#TrainingInputs \n",
    "s3_input_train_smote = TrainingInput(\n",
    "    s3_data=\"s3://{}/train_smote/\".format(bucket), content_type=\"csv\")\n",
    "\n",
    "#ValidationInputs \n",
    "s3_input_validation_smote = TrainingInput(\n",
    "   s3_data=\"s3://{}/validation_smote/\".format(bucket), content_type=\"csv\")"
   ]
  },
  {
   "cell_type": "markdown",
   "id": "34edd4d9",
   "metadata": {},
   "source": [
    "## Setup_Hyperparameter_Tuning \n"
   ]
  },
  {
   "cell_type": "code",
   "execution_count": null,
   "id": "dd7c8cac",
   "metadata": {},
   "outputs": [],
   "source": [
    "from sagemaker.image_uris import retrieve\n",
    "\n",
    "training_image = retrieve(framework=\"xgboost\", region=boto3.Session().region_name, version=\"latest\")\n",
    "\n",
    "s3_input_train = \"s3://{}/train_smote\".format(bucket, content_type=\"csv\")\n",
    "s3_input_validation = \"s3://{}/validation_smote/\".format(bucket, content_type=\"csv\")"
   ]
  },
  {
   "cell_type": "code",
   "execution_count": null,
   "id": "77f43f93",
   "metadata": {},
   "outputs": [],
   "source": [
    "from time import gmtime, strftime, sleep\n",
    "\n",
    "tuning_job_name = \"xgboost-tuningjob-\" + strftime(\"%d-%H-%M-%S\", gmtime())\n",
    "\n",
    "print(tuning_job_name)\n",
    "\n",
    "tuning_job_config = {\n",
    "    \"ParameterRanges\": {\n",
    "        \"CategoricalParameterRanges\": [],\n",
    "        \"ContinuousParameterRanges\": [\n",
    "            {\n",
    "                \"MaxValue\": \"1\",\n",
    "                \"MinValue\": \"0\",\n",
    "                \"Name\": \"eta\",\n",
    "            },\n",
    "            {\n",
    "                \"MaxValue\" : \"1\",\n",
    "                \"MinValue\" : \"0.1\",\n",
    "                \"Name\" : \"colsample_bylevel\"\n",
    "                \n",
    "            },\n",
    "            {\n",
    "                \"MaxValue\" : \"1\",\n",
    "                \"MinValue\" : \"0.5\",\n",
    "                \"Name\" : \"colsample_bytree\"\n",
    "            },\n",
    "            {\n",
    "                \"MaxValue\" : \"5\",\n",
    "                \"MinValue\" : \"0\",\n",
    "                \"Name\" : \"gamma\"\n",
    "            },\n",
    "            {\n",
    "                \"MaxValue\": \"120\",\n",
    "                \"MinValue\": \"1\",\n",
    "                \"Name\": \"min_child_weight\",\n",
    "            },\n",
    "            {\n",
    "                \"MaxValue\": \"1000\",\n",
    "                \"MinValue\": \"0\",\n",
    "                \"Name\": \"alpha\",\n",
    "            },\n",
    "            {\n",
    "                \"MaxValue\": \"1\",\n",
    "                \"MinValue\": \"0.5\",\n",
    "                \"Name\": \"subsample\",\n",
    "            }\n",
    "        ],\n",
    "        \"IntegerParameterRanges\": [\n",
    "            {\n",
    "                \"MaxValue\": \"10\",\n",
    "                \"MinValue\": \"0\",\n",
    "                \"Name\": \"max_depth\",\n",
    "            },\n",
    "            {\n",
    "                \"MaxValue\": \"10\",\n",
    "                \"MinValue\": \"0\",\n",
    "                \"Name\": \"max_delta_step\",\n",
    "            }\n",
    "        ],\n",
    "    },\n",
    "    \"ResourceLimits\": {\"MaxNumberOfTrainingJobs\": 8, \"MaxParallelTrainingJobs\": 2},\n",
    "    \"Strategy\": \"Bayesian\",\n",
    "    \"HyperParameterTuningJobObjective\": {\"MetricName\": \"validation:auc\", \"Type\": \"Maximize\"},\n",
    "}"
   ]
  },
  {
   "cell_type": "code",
   "execution_count": null,
   "id": "f221f44a",
   "metadata": {},
   "outputs": [],
   "source": [
    "\n",
    "training_job_definition = {\n",
    "    \"AlgorithmSpecification\": {\"TrainingImage\": training_image, \"TrainingInputMode\": \"File\"},\n",
    "    \"InputDataConfig\": [\n",
    "        {\n",
    "            \"ChannelName\": \"train\",\n",
    "            \"CompressionType\": \"None\",\n",
    "            \"ContentType\": \"csv\",\n",
    "            \"DataSource\": {\n",
    "                \"S3DataSource\": {\n",
    "                    \"S3DataDistributionType\": \"FullyReplicated\",\n",
    "                    \"S3DataType\": \"S3Prefix\",\n",
    "                    \"S3Uri\": s3_input_train,\n",
    "                }\n",
    "            },\n",
    "        },\n",
    "        {\n",
    "            \"ChannelName\": \"validation\",\n",
    "            \"CompressionType\": \"None\",\n",
    "            \"ContentType\": \"csv\",\n",
    "            \"DataSource\": {\n",
    "                \"S3DataSource\": {\n",
    "                    \"S3DataDistributionType\": \"FullyReplicated\",\n",
    "                    \"S3DataType\": \"S3Prefix\",\n",
    "                    \"S3Uri\": s3_input_validation,\n",
    "                }\n",
    "            },\n",
    "        },\n",
    "    ],\n",
    "    \"OutputDataConfig\": {\"S3OutputPath\": \"s3://{}/output\".format(bucket)},\n",
    "    \"ResourceConfig\": {\"InstanceCount\": 1, \"InstanceType\": \"ml.m4.xlarge\", \"VolumeSizeInGB\": 10},\n",
    "    \"RoleArn\": role,\n",
    "    \"StaticHyperParameters\": {\n",
    "        \"eval_metric\": \"auc\",\n",
    "        \"num_round\": \"100\",\n",
    "        \"objective\": \"binary:logistic\",\n",
    "        \"rate_drop\": \"0.3\",\n",
    "        \"tweedie_variance_power\": \"1.4\",\n",
    "    },\n",
    "    \"StoppingCondition\": {\"MaxRuntimeInSeconds\": 43200},\n",
    "}"
   ]
  },
  {
   "cell_type": "code",
   "execution_count": null,
   "id": "620eb26a",
   "metadata": {},
   "outputs": [],
   "source": [
    "smclient = boto3.Session().client(\"sagemaker\")"
   ]
  },
  {
   "cell_type": "code",
   "execution_count": null,
   "id": "cfaf6d5e",
   "metadata": {},
   "outputs": [],
   "source": [
    "smclient.create_hyper_parameter_tuning_job(\n",
    "    HyperParameterTuningJobName=tuning_job_name,\n",
    "    HyperParameterTuningJobConfig=tuning_job_config,\n",
    "    TrainingJobDefinition=training_job_definition,\n",
    ")"
   ]
  },
  {
   "cell_type": "code",
   "execution_count": null,
   "id": "8a536aa3",
   "metadata": {},
   "outputs": [],
   "source": [
    "smclient.describe_hyper_parameter_tuning_job(HyperParameterTuningJobName=tuning_job_name)[\n",
    "    \"HyperParameterTuningJobStatus\"\n",
    "]"
   ]
  },
  {
   "cell_type": "code",
   "execution_count": null,
   "id": "f145f404",
   "metadata": {},
   "outputs": [],
   "source": [
    "# run this cell to check current status of hyperparameter tuning job\n",
    "tuning_job_result = smclient.describe_hyper_parameter_tuning_job(\n",
    "    HyperParameterTuningJobName=tuning_job_name\n",
    ")\n",
    "\n",
    "status = tuning_job_result[\"HyperParameterTuningJobStatus\"]\n",
    "if status != \"Completed\":\n",
    "    print(\"Reminder: the tuning job has not been completed.\")\n",
    "\n",
    "job_count = tuning_job_result[\"TrainingJobStatusCounters\"][\"Completed\"]\n",
    "print(\"%d training jobs have completed\" % job_count)\n",
    "\n",
    "objective = tuning_job_result[\"HyperParameterTuningJobConfig\"][\"HyperParameterTuningJobObjective\"]\n",
    "is_minimize = objective[\"Type\"] != \"Maximize\"\n",
    "objective_name = objective[\"MetricName\"]"
   ]
  },
  {
   "cell_type": "code",
   "execution_count": null,
   "id": "65cde845",
   "metadata": {
    "scrolled": false
   },
   "outputs": [],
   "source": [
    "from pprint import pprint\n",
    "\n",
    "if tuning_job_result.get(\"BestTrainingJob\", None):\n",
    "    print(\"Best model found so far:\")\n",
    "    pprint(tuning_job_result[\"BestTrainingJob\"])\n",
    "else:\n",
    "    print(\"No training jobs have reported results yet.\")"
   ]
  },
  {
   "cell_type": "code",
   "execution_count": null,
   "id": "0a922494",
   "metadata": {},
   "outputs": [],
   "source": [
    "#Import data from S3 buckets:\n",
    "\n",
    "#TrainingInputs \n",
    "s3_input_train_smote = TrainingInput(\n",
    "    s3_data=\"s3://{}/train_smote/\".format(bucket), content_type=\"csv\")\n",
    "\n",
    "#ValidationInputs \n",
    "s3_input_validation_smote = TrainingInput(\n",
    "   s3_data=\"s3://{}/validation_smote/\".format(bucket), content_type=\"csv\")"
   ]
  },
  {
   "cell_type": "code",
   "execution_count": null,
   "id": "bf9b1340",
   "metadata": {},
   "outputs": [],
   "source": [
    "sess = sagemaker.Session()\n",
    "\n",
    "xgb_smote = sagemaker.estimator.Estimator(\n",
    "    container, #container = sagemaker.image_uris.retrieve(\"xgboost\", boto3.Session().region_name, \"latest\")\n",
    "    role, #role = arn:aws:iam::947941747067:role/service-role/AmazonSageMaker-ExecutionRole-20211124T165440\n",
    "    instance_count=1,\n",
    "    instance_type=\"ml.m4.xlarge\",\n",
    "    output_path=\"s3://{}/output\".format(bucket),\n",
    "    sagemaker_session=sess,\n",
    ")\n",
    "\n",
    "\n",
    "xgb_smote.set_hyperparameters(\n",
    "    alpha=40.216409796811405,\n",
    "    colsample_bylevel=0.7849005093037494,\n",
    "    min_child_weight=70.10162823835203,\n",
    "    colsample_bytree=0.5625572571583626,\n",
    "    max_depth=9,\n",
    "    gamma=2.3464688151496302,\n",
    "    max_delta_step=2,\n",
    "    eta=0.42230417721555225,\n",
    "    objective=\"binary:logistic\",\n",
    "    eval_metric= \"auc\", \n",
    "    num_round=100,\n",
    "    subsample=0.6261665126373279\n",
    ")\n",
    "xgb_smote.fit({\"train\": s3_input_train_smote, \"validation\": s3_input_validation_smote})"
   ]
  },
  {
   "cell_type": "code",
   "execution_count": null,
   "id": "1c310a0d",
   "metadata": {
    "scrolled": true
   },
   "outputs": [],
   "source": [
    "%matplotlib inline\n",
    "from sagemaker.analytics import TrainingJobAnalytics\n",
    "\n",
    "training_job_name = xgb_smote._current_job_name\n",
    "metric_name = ['train:auc','validation:auc']\n",
    "\n",
    "metrics_dataframe = TrainingJobAnalytics(training_job_name=training_job_name,metric_names=metric_name).dataframe()\n",
    "#plt = metrics_dataframe.plot(kind='line', figsize=(12,5), x='timestamp', y='value', style='b.', legend=False)\n",
    "#plt.set_ylabel(metric_name);\n",
    "metrics_dataframe"
   ]
  },
  {
   "cell_type": "markdown",
   "id": "b3e6f484",
   "metadata": {},
   "source": [
    "#### With our model trained, let's deploy it to a hosted endpoint"
   ]
  },
  {
   "cell_type": "code",
   "execution_count": null,
   "id": "114521e5",
   "metadata": {},
   "outputs": [],
   "source": [
    "xgb_predictor_smote = xgb_smote.deploy(\n",
    "    initial_instance_count=1, instance_type=\"ml.m4.xlarge\", serializer=CSVSerializer()\n",
    ")"
   ]
  },
  {
   "cell_type": "code",
   "execution_count": null,
   "id": "c2dbe0cc",
   "metadata": {},
   "outputs": [],
   "source": [
    "data_key = 'test/test.csv'\n",
    "data_location = 's3://{}/{}'.format(bucket, data_key)\n",
    "\n",
    "test_data = pd.read_csv(data_location, sep=',', header=None)\n",
    "test_data"
   ]
  },
  {
   "cell_type": "code",
   "execution_count": null,
   "id": "b65e393e",
   "metadata": {},
   "outputs": [],
   "source": [
    "test_data.to_numpy()[:, 1:]"
   ]
  },
  {
   "cell_type": "code",
   "execution_count": null,
   "id": "e347096d",
   "metadata": {},
   "outputs": [],
   "source": [
    "def predict(data, rows=500):\n",
    "    split_array = np.array_split(data, int(data.shape[0] / float(rows) + 1))\n",
    "    predictions_smote = \"\"\n",
    "    for array in split_array:\n",
    "        predictions_smote = \",\".join([predictions_smote, xgb_predictor_smote.predict(array).decode(\"utf-8\")])\n",
    "\n",
    "    return np.fromstring(predictions_smote[1:], sep=\",\")\n",
    "\n",
    "\n",
    "predictions_smote = predict(test_data.to_numpy()[:, 1:])"
   ]
  },
  {
   "cell_type": "code",
   "execution_count": null,
   "id": "45a8edc0",
   "metadata": {},
   "outputs": [],
   "source": [
    "print(predictions_smote)\n"
   ]
  },
  {
   "cell_type": "code",
   "execution_count": null,
   "id": "ae08e221",
   "metadata": {},
   "outputs": [],
   "source": [
    "from sklearn.metrics import precision_recall_fscore_support as score\n",
    "\n",
    "y_test = test_data.iloc[:, 0]\n",
    "y_pred = np.where(predictions_smote > 0.03, 1, 0)\n",
    "\n",
    "precision, recall, fscore, support = score(y_test, y_pred)\n",
    "\n",
    "print('precision: {}'.format(precision))\n",
    "print('recall: {}'.format(recall))\n",
    "print('fscore: {}'.format(fscore))\n",
    "print('support: {}'.format(support))"
   ]
  },
  {
   "cell_type": "code",
   "execution_count": null,
   "id": "15861437",
   "metadata": {},
   "outputs": [],
   "source": [
    "wtf = np.round(predictions_smote)"
   ]
  },
  {
   "cell_type": "code",
   "execution_count": null,
   "id": "1a456969",
   "metadata": {},
   "outputs": [],
   "source": [
    "df_cm_smote = pd.crosstab(\n",
    "    index=test_data.iloc[:, 0],\n",
    "    columns=np.round(predictions_smote),\n",
    "    rownames=[\"actual\"],\n",
    "    colnames=[\"predictions_smote\"],\n",
    ")\n",
    "\n",
    "\n",
    "import seaborn as sn\n",
    "sn.set(font_scale=1.4)\n",
    "sn.heatmap(df_cm_smote, annot=True, annot_kws={\"size\": 16}, fmt='g')"
   ]
  },
  {
   "cell_type": "markdown",
   "id": "8e3fa73d",
   "metadata": {},
   "source": [
    " "
   ]
  },
  {
   "cell_type": "markdown",
   "id": "e0b5bc3c",
   "metadata": {},
   "source": [
    " "
   ]
  },
  {
   "cell_type": "markdown",
   "id": "73508a2a",
   "metadata": {},
   "source": [
    "## Model Training with KMeans-SMOTE Resampled Dataset"
   ]
  },
  {
   "cell_type": "markdown",
   "id": "6b622a35",
   "metadata": {},
   "source": [
    "## Setup_Hyperparameter_Tuning \n"
   ]
  },
  {
   "cell_type": "code",
   "execution_count": null,
   "id": "7fd15510",
   "metadata": {},
   "outputs": [],
   "source": [
    "from sagemaker.image_uris import retrieve\n",
    "\n",
    "training_image = retrieve(framework=\"xgboost\", region=boto3.Session().region_name, version=\"latest\")\n",
    "\n",
    "s3_input_train = \"s3://{}/train_KMSmote\".format(bucket, content_type=\"csv\")\n",
    "s3_input_validation = \"s3://{}/validation_KMSmote/\".format(bucket, content_type=\"csv\")"
   ]
  },
  {
   "cell_type": "code",
   "execution_count": null,
   "id": "f781e48f",
   "metadata": {},
   "outputs": [],
   "source": [
    "from time import gmtime, strftime, sleep\n",
    "\n",
    "tuning_job_name = \"xgboost-tuningjob-\" + strftime(\"%d-%H-%M-%S\", gmtime())\n",
    "\n",
    "print(tuning_job_name)\n",
    "\n",
    "tuning_job_config = {\n",
    "    \"ParameterRanges\": {\n",
    "        \"CategoricalParameterRanges\": [],\n",
    "        \"ContinuousParameterRanges\": [\n",
    "            {\n",
    "                \"MaxValue\": \"1\",\n",
    "                \"MinValue\": \"0\",\n",
    "                \"Name\": \"eta\",\n",
    "            },\n",
    "            {\n",
    "                \"MaxValue\" : \"1\",\n",
    "                \"MinValue\" : \"0.1\",\n",
    "                \"Name\" : \"colsample_bylevel\"\n",
    "                \n",
    "            },\n",
    "            {\n",
    "                \"MaxValue\" : \"1\",\n",
    "                \"MinValue\" : \"0.5\",\n",
    "                \"Name\" : \"colsample_bytree\"\n",
    "            },\n",
    "            {\n",
    "                \"MaxValue\" : \"5\",\n",
    "                \"MinValue\" : \"0\",\n",
    "                \"Name\" : \"gamma\"\n",
    "            },\n",
    "            {\n",
    "                \"MaxValue\": \"120\",\n",
    "                \"MinValue\": \"1\",\n",
    "                \"Name\": \"min_child_weight\",\n",
    "            },\n",
    "            {\n",
    "                \"MaxValue\": \"1000\",\n",
    "                \"MinValue\": \"0\",\n",
    "                \"Name\": \"alpha\",\n",
    "            },\n",
    "            {\n",
    "                \"MaxValue\": \"1\",\n",
    "                \"MinValue\": \"0.5\",\n",
    "                \"Name\": \"subsample\",\n",
    "            }\n",
    "        ],\n",
    "        \"IntegerParameterRanges\": [\n",
    "            {\n",
    "                \"MaxValue\": \"10\",\n",
    "                \"MinValue\": \"0\",\n",
    "                \"Name\": \"max_depth\",\n",
    "            },\n",
    "            {\n",
    "                \"MaxValue\": \"10\",\n",
    "                \"MinValue\": \"0\",\n",
    "                \"Name\": \"max_delta_step\",\n",
    "            }\n",
    "        ],\n",
    "    },\n",
    "    \"ResourceLimits\": {\"MaxNumberOfTrainingJobs\": 8, \"MaxParallelTrainingJobs\": 2},\n",
    "    \"Strategy\": \"Bayesian\",\n",
    "    \"HyperParameterTuningJobObjective\": {\"MetricName\": \"validation:auc\", \"Type\": \"Maximize\"},\n",
    "}"
   ]
  },
  {
   "cell_type": "code",
   "execution_count": null,
   "id": "a4a9ed1c",
   "metadata": {},
   "outputs": [],
   "source": [
    "\n",
    "training_job_definition = {\n",
    "    \"AlgorithmSpecification\": {\"TrainingImage\": training_image, \"TrainingInputMode\": \"File\"},\n",
    "    \"InputDataConfig\": [\n",
    "        {\n",
    "            \"ChannelName\": \"train\",\n",
    "            \"CompressionType\": \"None\",\n",
    "            \"ContentType\": \"csv\",\n",
    "            \"DataSource\": {\n",
    "                \"S3DataSource\": {\n",
    "                    \"S3DataDistributionType\": \"FullyReplicated\",\n",
    "                    \"S3DataType\": \"S3Prefix\",\n",
    "                    \"S3Uri\": s3_input_train,\n",
    "                }\n",
    "            },\n",
    "        },\n",
    "        {\n",
    "            \"ChannelName\": \"validation\",\n",
    "            \"CompressionType\": \"None\",\n",
    "            \"ContentType\": \"csv\",\n",
    "            \"DataSource\": {\n",
    "                \"S3DataSource\": {\n",
    "                    \"S3DataDistributionType\": \"FullyReplicated\",\n",
    "                    \"S3DataType\": \"S3Prefix\",\n",
    "                    \"S3Uri\": s3_input_validation,\n",
    "                }\n",
    "            },\n",
    "        },\n",
    "    ],\n",
    "    \"OutputDataConfig\": {\"S3OutputPath\": \"s3://{}/output\".format(bucket)},\n",
    "    \"ResourceConfig\": {\"InstanceCount\": 1, \"InstanceType\": \"ml.m4.xlarge\", \"VolumeSizeInGB\": 10},\n",
    "    \"RoleArn\": role,\n",
    "    \"StaticHyperParameters\": {\n",
    "        \"eval_metric\": \"auc\",\n",
    "        \"num_round\": \"100\",\n",
    "        \"objective\": \"binary:logistic\",\n",
    "        \"rate_drop\": \"0.3\",\n",
    "        \"tweedie_variance_power\": \"1.4\",\n",
    "    },\n",
    "    \"StoppingCondition\": {\"MaxRuntimeInSeconds\": 43200},\n",
    "}"
   ]
  },
  {
   "cell_type": "code",
   "execution_count": null,
   "id": "91f5cba4",
   "metadata": {},
   "outputs": [],
   "source": [
    "smclient = boto3.Session().client(\"sagemaker\")"
   ]
  },
  {
   "cell_type": "code",
   "execution_count": null,
   "id": "21edc345",
   "metadata": {},
   "outputs": [],
   "source": [
    "smclient.create_hyper_parameter_tuning_job(\n",
    "    HyperParameterTuningJobName=tuning_job_name,\n",
    "    HyperParameterTuningJobConfig=tuning_job_config,\n",
    "    TrainingJobDefinition=training_job_definition,\n",
    ")"
   ]
  },
  {
   "cell_type": "code",
   "execution_count": null,
   "id": "82c04e98",
   "metadata": {},
   "outputs": [],
   "source": [
    "smclient.describe_hyper_parameter_tuning_job(HyperParameterTuningJobName=tuning_job_name)[\n",
    "    \"HyperParameterTuningJobStatus\"\n",
    "]"
   ]
  },
  {
   "cell_type": "code",
   "execution_count": null,
   "id": "a03f1925",
   "metadata": {},
   "outputs": [],
   "source": [
    "# run this cell to check current status of hyperparameter tuning job\n",
    "tuning_job_result = smclient.describe_hyper_parameter_tuning_job(\n",
    "    HyperParameterTuningJobName=tuning_job_name\n",
    ")\n",
    "\n",
    "status = tuning_job_result[\"HyperParameterTuningJobStatus\"]\n",
    "if status != \"Completed\":\n",
    "    print(\"Reminder: the tuning job has not been completed.\")\n",
    "\n",
    "job_count = tuning_job_result[\"TrainingJobStatusCounters\"][\"Completed\"]\n",
    "print(\"%d training jobs have completed\" % job_count)\n",
    "\n",
    "objective = tuning_job_result[\"HyperParameterTuningJobConfig\"][\"HyperParameterTuningJobObjective\"]\n",
    "is_minimize = objective[\"Type\"] != \"Maximize\"\n",
    "objective_name = objective[\"MetricName\"]"
   ]
  },
  {
   "cell_type": "code",
   "execution_count": null,
   "id": "028a22c8",
   "metadata": {
    "scrolled": false
   },
   "outputs": [],
   "source": [
    "from pprint import pprint\n",
    "\n",
    "if tuning_job_result.get(\"BestTrainingJob\", None):\n",
    "    print(\"Best model found so far:\")\n",
    "    pprint(tuning_job_result[\"BestTrainingJob\"])\n",
    "else:\n",
    "    print(\"No training jobs have reported results yet.\")"
   ]
  },
  {
   "cell_type": "code",
   "execution_count": null,
   "id": "5593ebea",
   "metadata": {},
   "outputs": [],
   "source": [
    "#Import data from S3 buckets:\n",
    "\n",
    "#TrainingInputs \n",
    "s3_input_train_KMSmote = TrainingInput(\n",
    "    s3_data=\"s3://{}/train_KMSmote/\".format(bucket), content_type=\"csv\")\n",
    "\n",
    "#ValidationInputs \n",
    "s3_input_validation_KMSmote = TrainingInput(\n",
    "   s3_data=\"s3://{}/validation_KMSmote/\".format(bucket), content_type=\"csv\")"
   ]
  },
  {
   "cell_type": "code",
   "execution_count": null,
   "id": "bae9b492",
   "metadata": {},
   "outputs": [],
   "source": [
    "sess = sagemaker.Session()\n",
    "\n",
    "xgb_KMSmote = sagemaker.estimator.Estimator(\n",
    "    container, #container = sagemaker.image_uris.retrieve(\"xgboost\", boto3.Session().region_name, \"latest\")\n",
    "    role, #role = arn:aws:iam::947941747067:role/service-role/AmazonSageMaker-ExecutionRole-20211124T165440\n",
    "    instance_count=1,\n",
    "    instance_type=\"ml.m4.xlarge\",\n",
    "    output_path=\"s3://{}/output\".format(bucket),\n",
    "    sagemaker_session=sess,\n",
    ")\n",
    "\n",
    "\n",
    "xgb_KMSmote.set_hyperparameters(\n",
    "    alpha=0.0,\n",
    "    max_depth=6,\n",
    "    colsample_bylevel=0.9821905551514846,\n",
    "    colsample_bytree=0.7352252202660664,\n",
    "    eta=0.7354161456910047,\n",
    "    gamma=3.8526330925960295,\n",
    "    max_delta_step=9,\n",
    "    min_child_weight=93.9021661490582,\n",
    "    subsample=0.5544205615337394,\n",
    "    objective=\"binary:logistic\",\n",
    "    eval_metric= \"auc\", \n",
    "    num_round=100,\n",
    ")\n",
    "\n",
    "\n",
    "xgb_KMSmote.fit({\"train\": s3_input_train_KMSmote, \"validation\": s3_input_validation_KMSmote})"
   ]
  },
  {
   "cell_type": "code",
   "execution_count": null,
   "id": "e04b95a2",
   "metadata": {
    "scrolled": true
   },
   "outputs": [],
   "source": [
    "%matplotlib inline\n",
    "from sagemaker.analytics import TrainingJobAnalytics\n",
    "\n",
    "training_job_name = xgb_KMSmote._current_job_name\n",
    "metric_name = ['train:auc','validation:auc']\n",
    "\n",
    "metrics_dataframe = TrainingJobAnalytics(training_job_name=training_job_name,metric_names=metric_name).dataframe()\n",
    "#plt = metrics_dataframe.plot(kind='line', figsize=(12,5), x='timestamp', y='value', style='b.', legend=False)\n",
    "#plt.set_ylabel(metric_name);\n",
    "metrics_dataframe"
   ]
  },
  {
   "cell_type": "markdown",
   "id": "1961eefd",
   "metadata": {},
   "source": [
    "#### With our model trained, let's deploy it to a hosted endpoint"
   ]
  },
  {
   "cell_type": "code",
   "execution_count": null,
   "id": "e89e41cb",
   "metadata": {},
   "outputs": [],
   "source": [
    "xgb_predictor_KMSmote = xgb_KMSmote.deploy(\n",
    "    initial_instance_count=1, instance_type=\"ml.m4.xlarge\", serializer=CSVSerializer()\n",
    ")"
   ]
  },
  {
   "cell_type": "code",
   "execution_count": null,
   "id": "25f31e6e",
   "metadata": {},
   "outputs": [],
   "source": [
    "data_key = 'test/test.csv'\n",
    "data_location = 's3://{}/{}'.format(bucket, data_key)\n",
    "\n",
    "test_data = pd.read_csv(data_location, sep=',', header=None)\n",
    "test_data"
   ]
  },
  {
   "cell_type": "code",
   "execution_count": null,
   "id": "adbe15b0",
   "metadata": {},
   "outputs": [],
   "source": [
    "test_data.to_numpy()[:, 1:]"
   ]
  },
  {
   "cell_type": "code",
   "execution_count": null,
   "id": "2d31ac4d",
   "metadata": {},
   "outputs": [],
   "source": [
    "def predict(data, rows=500):\n",
    "    split_array = np.array_split(data, int(data.shape[0] / float(rows) + 1))\n",
    "    predictions_KMSmote = \"\"\n",
    "    for array in split_array:\n",
    "        predictions_KMSmote = \",\".join([predictions_KMSmote, xgb_predictor_KMSmote.predict(array).decode(\"utf-8\")])\n",
    "\n",
    "    return np.fromstring(predictions_KMSmote[1:], sep=\",\")\n",
    "\n",
    "\n",
    "predictions_KMSmote = predict(test_data.to_numpy()[:, 1:])"
   ]
  },
  {
   "cell_type": "code",
   "execution_count": null,
   "id": "d4301aec",
   "metadata": {},
   "outputs": [],
   "source": [
    "print(predictions_KMSmote)\n"
   ]
  },
  {
   "cell_type": "code",
   "execution_count": null,
   "id": "5c6acf52",
   "metadata": {},
   "outputs": [],
   "source": [
    "from sklearn.metrics import precision_recall_fscore_support as score\n",
    "\n",
    "y_test = test_data.iloc[:, 0]\n",
    "y_pred = np.where(predictions_KMSmote > 0.03, 1, 0)\n",
    "\n",
    "precision, recall, fscore, support = score(y_test, y_pred)\n",
    "\n",
    "print('precision: {}'.format(precision))\n",
    "print('recall: {}'.format(recall))\n",
    "print('fscore: {}'.format(fscore))\n",
    "print('support: {}'.format(support))"
   ]
  },
  {
   "cell_type": "code",
   "execution_count": null,
   "id": "cf564c43",
   "metadata": {
    "scrolled": true
   },
   "outputs": [],
   "source": [
    "df_cm_KMSmote = pd.crosstab(\n",
    "    index=test_data.iloc[:, 0],\n",
    "    columns=np.round(predictions_KMSmote),\n",
    "    rownames=[\"actual\"],\n",
    "    colnames=[\"predictions_KMSmote\"],\n",
    ")\n",
    "\n",
    "\n",
    "import seaborn as sn\n",
    "sn.set(font_scale=1.4)\n",
    "sn.heatmap(df_cm_KMSmote, annot=True, annot_kws={\"size\": 16}, fmt='g')"
   ]
  },
  {
   "cell_type": "markdown",
   "id": "1e9aed17",
   "metadata": {},
   "source": [
    " \n",
    " "
   ]
  },
  {
   "cell_type": "markdown",
   "id": "6105c1dd",
   "metadata": {},
   "source": [
    " "
   ]
  },
  {
   "cell_type": "markdown",
   "id": "ea0ecc92",
   "metadata": {},
   "source": [
    "## Model Training with SVM-SMOTE Resampled Dataset"
   ]
  },
  {
   "cell_type": "markdown",
   "id": "9b2fe9ee",
   "metadata": {},
   "source": [
    "## Setup_Hyperparameter_Tuning \n"
   ]
  },
  {
   "cell_type": "code",
   "execution_count": null,
   "id": "218bad1f",
   "metadata": {},
   "outputs": [],
   "source": [
    "from sagemaker.image_uris import retrieve\n",
    "\n",
    "training_image = retrieve(framework=\"xgboost\", region=boto3.Session().region_name, version=\"latest\")\n",
    "\n",
    "s3_input_train = \"s3://{}/train_svm\".format(bucket, content_type=\"csv\")\n",
    "s3_input_validation = \"s3://{}/validation_svm/\".format(bucket, content_type=\"csv\")"
   ]
  },
  {
   "cell_type": "code",
   "execution_count": null,
   "id": "bc4d86e4",
   "metadata": {},
   "outputs": [],
   "source": [
    "from time import gmtime, strftime, sleep\n",
    "\n",
    "tuning_job_name = \"xgboost-tuningjob-\" + strftime(\"%d-%H-%M-%S\", gmtime())\n",
    "\n",
    "print(tuning_job_name)\n",
    "\n",
    "tuning_job_config = {\n",
    "    \"ParameterRanges\": {\n",
    "        \"CategoricalParameterRanges\": [],\n",
    "        \"ContinuousParameterRanges\": [\n",
    "            {\n",
    "                \"MaxValue\": \"1\",\n",
    "                \"MinValue\": \"0\",\n",
    "                \"Name\": \"eta\",\n",
    "            },\n",
    "            {\n",
    "                \"MaxValue\" : \"1\",\n",
    "                \"MinValue\" : \"0.1\",\n",
    "                \"Name\" : \"colsample_bylevel\"\n",
    "                \n",
    "            },\n",
    "            {\n",
    "                \"MaxValue\" : \"1\",\n",
    "                \"MinValue\" : \"0.5\",\n",
    "                \"Name\" : \"colsample_bytree\"\n",
    "            },\n",
    "            {\n",
    "                \"MaxValue\" : \"5\",\n",
    "                \"MinValue\" : \"0\",\n",
    "                \"Name\" : \"gamma\"\n",
    "            },\n",
    "            {\n",
    "                \"MaxValue\": \"120\",\n",
    "                \"MinValue\": \"1\",\n",
    "                \"Name\": \"min_child_weight\",\n",
    "            },\n",
    "            {\n",
    "                \"MaxValue\": \"1000\",\n",
    "                \"MinValue\": \"0\",\n",
    "                \"Name\": \"alpha\",\n",
    "            },\n",
    "            {\n",
    "                \"MaxValue\": \"1\",\n",
    "                \"MinValue\": \"0.5\",\n",
    "                \"Name\": \"subsample\",\n",
    "            }\n",
    "        ],\n",
    "        \"IntegerParameterRanges\": [\n",
    "            {\n",
    "                \"MaxValue\": \"10\",\n",
    "                \"MinValue\": \"0\",\n",
    "                \"Name\": \"max_depth\",\n",
    "            },\n",
    "            {\n",
    "                \"MaxValue\": \"10\",\n",
    "                \"MinValue\": \"0\",\n",
    "                \"Name\": \"max_delta_step\",\n",
    "            }\n",
    "        ],\n",
    "    },\n",
    "    \"ResourceLimits\": {\"MaxNumberOfTrainingJobs\": 8, \"MaxParallelTrainingJobs\": 2},\n",
    "    \"Strategy\": \"Bayesian\",\n",
    "    \"HyperParameterTuningJobObjective\": {\"MetricName\": \"validation:auc\", \"Type\": \"Maximize\"},\n",
    "}"
   ]
  },
  {
   "cell_type": "code",
   "execution_count": null,
   "id": "f6d9e3c6",
   "metadata": {},
   "outputs": [],
   "source": [
    "\n",
    "training_job_definition = {\n",
    "    \"AlgorithmSpecification\": {\"TrainingImage\": training_image, \"TrainingInputMode\": \"File\"},\n",
    "    \"InputDataConfig\": [\n",
    "        {\n",
    "            \"ChannelName\": \"train\",\n",
    "            \"CompressionType\": \"None\",\n",
    "            \"ContentType\": \"csv\",\n",
    "            \"DataSource\": {\n",
    "                \"S3DataSource\": {\n",
    "                    \"S3DataDistributionType\": \"FullyReplicated\",\n",
    "                    \"S3DataType\": \"S3Prefix\",\n",
    "                    \"S3Uri\": s3_input_train,\n",
    "                }\n",
    "            },\n",
    "        },\n",
    "        {\n",
    "            \"ChannelName\": \"validation\",\n",
    "            \"CompressionType\": \"None\",\n",
    "            \"ContentType\": \"csv\",\n",
    "            \"DataSource\": {\n",
    "                \"S3DataSource\": {\n",
    "                    \"S3DataDistributionType\": \"FullyReplicated\",\n",
    "                    \"S3DataType\": \"S3Prefix\",\n",
    "                    \"S3Uri\": s3_input_validation,\n",
    "                }\n",
    "            },\n",
    "        },\n",
    "    ],\n",
    "    \"OutputDataConfig\": {\"S3OutputPath\": \"s3://{}/output\".format(bucket)},\n",
    "    \"ResourceConfig\": {\"InstanceCount\": 1, \"InstanceType\": \"ml.m4.xlarge\", \"VolumeSizeInGB\": 10},\n",
    "    \"RoleArn\": role,\n",
    "    \"StaticHyperParameters\": {\n",
    "        \"eval_metric\": \"auc\",\n",
    "        \"num_round\": \"100\",\n",
    "        \"objective\": \"binary:logistic\",\n",
    "        \"rate_drop\": \"0.3\",\n",
    "        \"tweedie_variance_power\": \"1.4\",\n",
    "    },\n",
    "    \"StoppingCondition\": {\"MaxRuntimeInSeconds\": 43200},\n",
    "}"
   ]
  },
  {
   "cell_type": "code",
   "execution_count": null,
   "id": "cc8e7999",
   "metadata": {},
   "outputs": [],
   "source": [
    "smclient = boto3.Session().client(\"sagemaker\")"
   ]
  },
  {
   "cell_type": "code",
   "execution_count": null,
   "id": "ee37be39",
   "metadata": {},
   "outputs": [],
   "source": [
    "smclient.create_hyper_parameter_tuning_job(\n",
    "    HyperParameterTuningJobName=tuning_job_name,\n",
    "    HyperParameterTuningJobConfig=tuning_job_config,\n",
    "    TrainingJobDefinition=training_job_definition,\n",
    ")"
   ]
  },
  {
   "cell_type": "code",
   "execution_count": null,
   "id": "259e4d2f",
   "metadata": {},
   "outputs": [],
   "source": [
    "smclient.describe_hyper_parameter_tuning_job(HyperParameterTuningJobName=tuning_job_name)[\n",
    "    \"HyperParameterTuningJobStatus\"\n",
    "]"
   ]
  },
  {
   "cell_type": "code",
   "execution_count": null,
   "id": "ff86d96c",
   "metadata": {},
   "outputs": [],
   "source": [
    "# run this cell to check current status of hyperparameter tuning job\n",
    "tuning_job_result = smclient.describe_hyper_parameter_tuning_job(\n",
    "    HyperParameterTuningJobName=tuning_job_name\n",
    ")\n",
    "\n",
    "status = tuning_job_result[\"HyperParameterTuningJobStatus\"]\n",
    "if status != \"Completed\":\n",
    "    print(\"Reminder: the tuning job has not been completed.\")\n",
    "\n",
    "job_count = tuning_job_result[\"TrainingJobStatusCounters\"][\"Completed\"]\n",
    "print(\"%d training jobs have completed\" % job_count)\n",
    "\n",
    "objective = tuning_job_result[\"HyperParameterTuningJobConfig\"][\"HyperParameterTuningJobObjective\"]\n",
    "is_minimize = objective[\"Type\"] != \"Maximize\"\n",
    "objective_name = objective[\"MetricName\"]"
   ]
  },
  {
   "cell_type": "code",
   "execution_count": null,
   "id": "0b3badd7",
   "metadata": {
    "scrolled": false
   },
   "outputs": [],
   "source": [
    "from pprint import pprint\n",
    "\n",
    "if tuning_job_result.get(\"BestTrainingJob\", None):\n",
    "    print(\"Best model found so far:\")\n",
    "    pprint(tuning_job_result[\"BestTrainingJob\"])\n",
    "else:\n",
    "    print(\"No training jobs have reported results yet.\")"
   ]
  },
  {
   "cell_type": "code",
   "execution_count": null,
   "id": "5719f7e3",
   "metadata": {},
   "outputs": [],
   "source": [
    "#Import data from S3 buckets:\n",
    "\n",
    "#TrainingInputs \n",
    "s3_input_train_svm = TrainingInput(\n",
    "    s3_data=\"s3://{}/train_svm/\".format(bucket), content_type=\"csv\")\n",
    "\n",
    "#ValidationInputs \n",
    "s3_input_validation_svm = TrainingInput(\n",
    "   s3_data=\"s3://{}/validation_svm/\".format(bucket), content_type=\"csv\")"
   ]
  },
  {
   "cell_type": "code",
   "execution_count": null,
   "id": "d962cb40",
   "metadata": {},
   "outputs": [],
   "source": [
    "sess = sagemaker.Session()\n",
    "\n",
    "xgb_svm = sagemaker.estimator.Estimator(\n",
    "    container, #container = sagemaker.image_uris.retrieve(\"xgboost\", boto3.Session().region_name, \"latest\")\n",
    "    role, #role = arn:aws:iam::947941747067:role/service-role/AmazonSageMaker-ExecutionRole-20211124T165440\n",
    "    instance_count=1,\n",
    "    instance_type=\"ml.m4.xlarge\",\n",
    "    output_path=\"s3://{}/output\".format(bucket),\n",
    "    sagemaker_session=sess,\n",
    ")\n",
    "\n",
    "\n",
    "xgb_svm.set_hyperparameters(\n",
    "    alpha=458.3444684628589,\n",
    "    colsample_bylevel=0.8950713179635998,\n",
    "    colsample_bytree=0.6821249355523158,\n",
    "    max_depth=10,\n",
    "    max_delta_step=10,\n",
    "    eta=0.08754223069900237,\n",
    "    gamma=1.8978341258783693,\n",
    "    min_child_weight=1.8978341258783693,\n",
    "    objective=\"binary:logistic\",\n",
    "    eval_metric= \"auc\", \n",
    "    num_round=100,\n",
    ")\n",
    "\n",
    "xgb_svm.fit({\"train\": s3_input_train_svm, \"validation\": s3_input_validation_svm})"
   ]
  },
  {
   "cell_type": "code",
   "execution_count": null,
   "id": "c35fbd0f",
   "metadata": {
    "scrolled": true
   },
   "outputs": [],
   "source": [
    "%matplotlib inline\n",
    "from sagemaker.analytics import TrainingJobAnalytics\n",
    "\n",
    "training_job_name = xgb_svm._current_job_name\n",
    "metric_name = ['train:auc','validation:auc']\n",
    "\n",
    "metrics_dataframe = TrainingJobAnalytics(training_job_name=training_job_name,metric_names=metric_name).dataframe()\n",
    "#plt = metrics_dataframe.plot(kind='line', figsize=(12,5), x='timestamp', y='value', style='b.', legend=False)\n",
    "#plt.set_ylabel(metric_name);\n",
    "metrics_dataframe"
   ]
  },
  {
   "cell_type": "markdown",
   "id": "6a659e5f",
   "metadata": {},
   "source": [
    "#### With our model trained, let's deploy it to a hosted endpoint"
   ]
  },
  {
   "cell_type": "code",
   "execution_count": null,
   "id": "d6df1f5b",
   "metadata": {},
   "outputs": [],
   "source": [
    "xgb_predictor_svm = xgb_svm.deploy(\n",
    "    initial_instance_count=1, instance_type=\"ml.m4.xlarge\", serializer=CSVSerializer()\n",
    ")"
   ]
  },
  {
   "cell_type": "code",
   "execution_count": null,
   "id": "21fc8139",
   "metadata": {},
   "outputs": [],
   "source": [
    "data_key = 'test/test.csv'\n",
    "data_location = 's3://{}/{}'.format(bucket, data_key)\n",
    "\n",
    "test_data = pd.read_csv(data_location, sep=',', header=None)\n",
    "test_data"
   ]
  },
  {
   "cell_type": "code",
   "execution_count": null,
   "id": "1606faa0",
   "metadata": {},
   "outputs": [],
   "source": [
    "def predict(data, rows=500):\n",
    "    split_array = np.array_split(data, int(data.shape[0] / float(rows) + 1))\n",
    "    predictions_svm = \"\"\n",
    "    for array in split_array:\n",
    "        predictions_svm = \",\".join([predictions_svm, xgb_predictor_svm.predict(array).decode(\"utf-8\")])\n",
    "\n",
    "    return np.fromstring(predictions_svm[1:], sep=\",\")\n",
    "\n",
    "\n",
    "predictions_svm = predict(test_data.to_numpy()[:, 1:])"
   ]
  },
  {
   "cell_type": "code",
   "execution_count": null,
   "id": "4bb25eba",
   "metadata": {},
   "outputs": [],
   "source": [
    "print(predictions_svm)\n"
   ]
  },
  {
   "cell_type": "code",
   "execution_count": null,
   "id": "19a8c498",
   "metadata": {},
   "outputs": [],
   "source": [
    "from sklearn.metrics import precision_recall_fscore_support as score\n",
    "\n",
    "y_test = test_data.iloc[:, 0]\n",
    "y_pred = np.where(predictions_svm > 0.03, 1, 0)\n",
    "\n",
    "precision, recall, fscore, support = score(y_test, y_pred)\n",
    "\n",
    "print('precision: {}'.format(precision))\n",
    "print('recall: {}'.format(recall))\n",
    "print('fscore: {}'.format(fscore))\n",
    "print('support: {}'.format(support))"
   ]
  },
  {
   "cell_type": "code",
   "execution_count": null,
   "id": "b1a5d604",
   "metadata": {},
   "outputs": [],
   "source": [
    "df_cm_svm = pd.crosstab(\n",
    "    index=test_data.iloc[:, 0],\n",
    "    columns=np.round(predictions_svm),\n",
    "    rownames=[\"actual\"],\n",
    "    colnames=[\"predictions_svm\"],\n",
    ")\n",
    "\n",
    "\n",
    "import seaborn as sn\n",
    "sn.set(font_scale=1.4)\n",
    "sn.heatmap(df_cm_svm, annot=True, annot_kws={\"size\": 16}, fmt='g')"
   ]
  },
  {
   "cell_type": "markdown",
   "id": "d3e24eed",
   "metadata": {},
   "source": [
    "## Model Training with SMOTE ENN Resampled Dataset"
   ]
  },
  {
   "cell_type": "code",
   "execution_count": null,
   "id": "52a7fb9a",
   "metadata": {},
   "outputs": [],
   "source": [
    "from sagemaker.image_uris import retrieve\n",
    "\n",
    "training_image = retrieve(framework=\"xgboost\", region=boto3.Session().region_name, version=\"latest\")\n",
    "\n",
    "s3_input_train = \"s3://{}/train_SmoteENN\".format(bucket, content_type=\"csv\")\n",
    "s3_input_validation = \"s3://{}/validation_SmoteENN/\".format(bucket, content_type=\"csv\")"
   ]
  },
  {
   "cell_type": "code",
   "execution_count": null,
   "id": "9a5c5cfb",
   "metadata": {},
   "outputs": [],
   "source": [
    "from time import gmtime, strftime, sleep\n",
    "\n",
    "tuning_job_name = \"xgboost-tuningjob-\" + strftime(\"%d-%H-%M-%S\", gmtime())\n",
    "\n",
    "print(tuning_job_name)\n",
    "\n",
    "tuning_job_config = {\n",
    "    \"ParameterRanges\": {\n",
    "        \"CategoricalParameterRanges\": [],\n",
    "        \"ContinuousParameterRanges\": [\n",
    "            {\n",
    "                \"MaxValue\": \"1\",\n",
    "                \"MinValue\": \"0\",\n",
    "                \"Name\": \"eta\",\n",
    "            },\n",
    "            {\n",
    "                \"MaxValue\" : \"1\",\n",
    "                \"MinValue\" : \"0.1\",\n",
    "                \"Name\" : \"colsample_bylevel\"\n",
    "                \n",
    "            },\n",
    "            {\n",
    "                \"MaxValue\" : \"1\",\n",
    "                \"MinValue\" : \"0.5\",\n",
    "                \"Name\" : \"colsample_bytree\"\n",
    "            },\n",
    "            {\n",
    "                \"MaxValue\" : \"5\",\n",
    "                \"MinValue\" : \"0\",\n",
    "                \"Name\" : \"gamma\"\n",
    "            },\n",
    "            {\n",
    "                \"MaxValue\": \"120\",\n",
    "                \"MinValue\": \"1\",\n",
    "                \"Name\": \"min_child_weight\",\n",
    "            },\n",
    "            {\n",
    "                \"MaxValue\": \"1000\",\n",
    "                \"MinValue\": \"0\",\n",
    "                \"Name\": \"alpha\",\n",
    "            },\n",
    "            {\n",
    "                \"MaxValue\": \"1\",\n",
    "                \"MinValue\": \"0.5\",\n",
    "                \"Name\": \"subsample\",\n",
    "            }\n",
    "        ],\n",
    "        \"IntegerParameterRanges\": [\n",
    "            {\n",
    "                \"MaxValue\": \"10\",\n",
    "                \"MinValue\": \"0\",\n",
    "                \"Name\": \"max_depth\",\n",
    "            },\n",
    "            {\n",
    "                \"MaxValue\": \"10\",\n",
    "                \"MinValue\": \"0\",\n",
    "                \"Name\": \"max_delta_step\",\n",
    "            }\n",
    "        ],\n",
    "    },\n",
    "    \"ResourceLimits\": {\"MaxNumberOfTrainingJobs\": 8, \"MaxParallelTrainingJobs\": 2},\n",
    "    \"Strategy\": \"Bayesian\",\n",
    "    \"HyperParameterTuningJobObjective\": {\"MetricName\": \"validation:auc\", \"Type\": \"Maximize\"},\n",
    "}"
   ]
  },
  {
   "cell_type": "code",
   "execution_count": null,
   "id": "6035c3ad",
   "metadata": {},
   "outputs": [],
   "source": [
    "\n",
    "training_job_definition = {\n",
    "    \"AlgorithmSpecification\": {\"TrainingImage\": training_image, \"TrainingInputMode\": \"File\"},\n",
    "    \"InputDataConfig\": [\n",
    "        {\n",
    "            \"ChannelName\": \"train\",\n",
    "            \"CompressionType\": \"None\",\n",
    "            \"ContentType\": \"csv\",\n",
    "            \"DataSource\": {\n",
    "                \"S3DataSource\": {\n",
    "                    \"S3DataDistributionType\": \"FullyReplicated\",\n",
    "                    \"S3DataType\": \"S3Prefix\",\n",
    "                    \"S3Uri\": s3_input_train,\n",
    "                }\n",
    "            },\n",
    "        },\n",
    "        {\n",
    "            \"ChannelName\": \"validation\",\n",
    "            \"CompressionType\": \"None\",\n",
    "            \"ContentType\": \"csv\",\n",
    "            \"DataSource\": {\n",
    "                \"S3DataSource\": {\n",
    "                    \"S3DataDistributionType\": \"FullyReplicated\",\n",
    "                    \"S3DataType\": \"S3Prefix\",\n",
    "                    \"S3Uri\": s3_input_validation,\n",
    "                }\n",
    "            },\n",
    "        },\n",
    "    ],\n",
    "    \"OutputDataConfig\": {\"S3OutputPath\": \"s3://{}/output\".format(bucket)},\n",
    "    \"ResourceConfig\": {\"InstanceCount\": 1, \"InstanceType\": \"ml.m4.xlarge\", \"VolumeSizeInGB\": 10},\n",
    "    \"RoleArn\": role,\n",
    "    \"StaticHyperParameters\": {\n",
    "        \"eval_metric\": \"auc\",\n",
    "        \"num_round\": \"100\",\n",
    "        \"objective\": \"binary:logistic\",\n",
    "        \"rate_drop\": \"0.3\",\n",
    "        \"tweedie_variance_power\": \"1.4\",\n",
    "    },\n",
    "    \"StoppingCondition\": {\"MaxRuntimeInSeconds\": 43200},\n",
    "}"
   ]
  },
  {
   "cell_type": "code",
   "execution_count": null,
   "id": "319de5af",
   "metadata": {},
   "outputs": [],
   "source": [
    "smclient = boto3.Session().client(\"sagemaker\")"
   ]
  },
  {
   "cell_type": "code",
   "execution_count": null,
   "id": "31b7349d",
   "metadata": {},
   "outputs": [],
   "source": [
    "smclient.create_hyper_parameter_tuning_job(\n",
    "    HyperParameterTuningJobName=tuning_job_name,\n",
    "    HyperParameterTuningJobConfig=tuning_job_config,\n",
    "    TrainingJobDefinition=training_job_definition,\n",
    ")"
   ]
  },
  {
   "cell_type": "code",
   "execution_count": null,
   "id": "2dc9d232",
   "metadata": {},
   "outputs": [],
   "source": [
    "smclient.describe_hyper_parameter_tuning_job(HyperParameterTuningJobName=tuning_job_name)[\n",
    "    \"HyperParameterTuningJobStatus\"\n",
    "]"
   ]
  },
  {
   "cell_type": "code",
   "execution_count": null,
   "id": "5e8591d8",
   "metadata": {},
   "outputs": [],
   "source": [
    "# run this cell to check current status of hyperparameter tuning job\n",
    "tuning_job_result = smclient.describe_hyper_parameter_tuning_job(\n",
    "    HyperParameterTuningJobName=tuning_job_name\n",
    ")\n",
    "\n",
    "status = tuning_job_result[\"HyperParameterTuningJobStatus\"]\n",
    "if status != \"Completed\":\n",
    "    print(\"Reminder: the tuning job has not been completed.\")\n",
    "\n",
    "job_count = tuning_job_result[\"TrainingJobStatusCounters\"][\"Completed\"]\n",
    "print(\"%d training jobs have completed\" % job_count)\n",
    "\n",
    "objective = tuning_job_result[\"HyperParameterTuningJobConfig\"][\"HyperParameterTuningJobObjective\"]\n",
    "is_minimize = objective[\"Type\"] != \"Maximize\"\n",
    "objective_name = objective[\"MetricName\"]"
   ]
  },
  {
   "cell_type": "code",
   "execution_count": null,
   "id": "67a292c1",
   "metadata": {
    "scrolled": false
   },
   "outputs": [],
   "source": [
    "from pprint import pprint\n",
    "\n",
    "if tuning_job_result.get(\"BestTrainingJob\", None):\n",
    "    print(\"Best model found so far:\")\n",
    "    pprint(tuning_job_result[\"BestTrainingJob\"])\n",
    "else:\n",
    "    print(\"No training jobs have reported results yet.\")"
   ]
  },
  {
   "cell_type": "code",
   "execution_count": null,
   "id": "cc3d64d8",
   "metadata": {},
   "outputs": [],
   "source": [
    "#Import data from S3 buckets:\n",
    "\n",
    "#TrainingInputs \n",
    "s3_input_train_SmoteENN = TrainingInput(\n",
    "    s3_data=\"s3://{}/train_SmoteENN/\".format(bucket), content_type=\"csv\")\n",
    "\n",
    "#ValidationInputs \n",
    "s3_input_validation_SmoteENN = TrainingInput(\n",
    "   s3_data=\"s3://{}/validation_SmoteENN/\".format(bucket), content_type=\"csv\")"
   ]
  },
  {
   "cell_type": "code",
   "execution_count": null,
   "id": "092a2150",
   "metadata": {},
   "outputs": [],
   "source": [
    "sess = sagemaker.Session()\n",
    "\n",
    "xgb_SmoteENN = sagemaker.estimator.Estimator(\n",
    "    container, #container = sagemaker.image_uris.retrieve(\"xgboost\", boto3.Session().region_name, \"latest\")\n",
    "    role, #role = arn:aws:iam::947941747067:role/service-role/AmazonSageMaker-ExecutionRole-20211124T165440\n",
    "    instance_count=1,\n",
    "    instance_type=\"ml.m4.xlarge\",\n",
    "    output_path=\"s3://{}/output\".format(bucket),\n",
    "    sagemaker_session=sess,\n",
    ")\n",
    "\n",
    "\n",
    "xgb_SmoteENN.set_hyperparameters(\n",
    "    alpha=234.24489549493765,\n",
    "    colsample_bylevel= 0.7695493793830517,\n",
    "    colsample_bytree= 0.7246719293002704,\n",
    "    eta=0.10026578123125553,\n",
    "    gamma=3.462909577823404,\n",
    "    max_delta_step= 7,\n",
    "    min_child_weight=114.93467551230289,\n",
    "    max_depth= 9,\n",
    "    subsample=0.8808286982132013,\n",
    "    objective=\"binary:logistic\",\n",
    "    eval_metric= \"auc\", \n",
    "    num_round=100,\n",
    ")\n",
    "xgb_SmoteENN.fit({\"train\": s3_input_train_SmoteENN, \"validation\": s3_input_validation_SmoteENN})\n"
   ]
  },
  {
   "cell_type": "code",
   "execution_count": null,
   "id": "8f780c4a",
   "metadata": {
    "scrolled": true
   },
   "outputs": [],
   "source": [
    "%matplotlib inline\n",
    "from sagemaker.analytics import TrainingJobAnalytics\n",
    "\n",
    "training_job_name = xgb_SmoteENN._current_job_name\n",
    "metric_name = ['train:auc','validation:auc']\n",
    "\n",
    "metrics_dataframe = TrainingJobAnalytics(training_job_name=training_job_name,metric_names=metric_name).dataframe()\n",
    "#plt = metrics_dataframe.plot(kind='line', figsize=(12,5), x='timestamp', y='value', style='b.', legend=False)\n",
    "#plt.set_ylabel(metric_name);\n",
    "metrics_dataframe"
   ]
  },
  {
   "cell_type": "markdown",
   "id": "c1d9b147",
   "metadata": {},
   "source": [
    "#### With our model trained, let's deploy it to a hosted endpoint"
   ]
  },
  {
   "cell_type": "code",
   "execution_count": null,
   "id": "cd516fb4",
   "metadata": {},
   "outputs": [],
   "source": [
    "xgb_predictor_SmoteENN = xgb_SmoteENN.deploy(\n",
    "    initial_instance_count=1, instance_type=\"ml.m4.xlarge\", serializer=CSVSerializer()\n",
    ")"
   ]
  },
  {
   "cell_type": "code",
   "execution_count": null,
   "id": "2305d3c0",
   "metadata": {},
   "outputs": [],
   "source": [
    "data_key = 'test/test.csv'\n",
    "data_location = 's3://{}/{}'.format(bucket, data_key)\n",
    "\n",
    "test_data = pd.read_csv(data_location, sep=',', header=None)\n",
    "test_data"
   ]
  },
  {
   "cell_type": "code",
   "execution_count": null,
   "id": "95fc165a",
   "metadata": {},
   "outputs": [],
   "source": [
    "def predict(data, rows=500):\n",
    "    split_array = np.array_split(data, int(data.shape[0] / float(rows) + 1))\n",
    "    predictions_SmoteENN = \"\"\n",
    "    for array in split_array:\n",
    "        predictions_SmoteENN = \",\".join([predictions_SmoteENN, xgb_predictor_SmoteENN.predict(array).decode(\"utf-8\")])\n",
    "\n",
    "    return np.fromstring(predictions_SmoteENN[1:], sep=\",\")\n",
    "\n",
    "\n",
    "predictions_SmoteENN = predict(test_data.to_numpy()[:, 1:])"
   ]
  },
  {
   "cell_type": "code",
   "execution_count": null,
   "id": "99170786",
   "metadata": {},
   "outputs": [],
   "source": [
    "print(predictions_SmoteENN)\n"
   ]
  },
  {
   "cell_type": "code",
   "execution_count": null,
   "id": "0f564db5",
   "metadata": {},
   "outputs": [],
   "source": [
    "from sklearn.metrics import precision_recall_fscore_support as score\n",
    "\n",
    "y_test = test_data.iloc[:, 0]\n",
    "y_pred = np.where(predictions_SmoteENN > 0.03, 1, 0)\n",
    "\n",
    "precision, recall, fscore, support = score(y_test, y_pred)\n",
    "\n",
    "print('precision: {}'.format(precision))\n",
    "print('recall: {}'.format(recall))\n",
    "print('fscore: {}'.format(fscore))\n",
    "print('support: {}'.format(support))"
   ]
  },
  {
   "cell_type": "code",
   "execution_count": null,
   "id": "c1494840",
   "metadata": {},
   "outputs": [],
   "source": [
    "df_cm_SmoteENN = pd.crosstab(\n",
    "    index=test_data.iloc[:, 0],\n",
    "    columns=np.round(predictions_SmoteENN),\n",
    "    rownames=[\"actual\"],\n",
    "    colnames=[\"predictions_SmoteENN\"],\n",
    ")\n",
    "\n",
    "\n",
    "import seaborn as sn\n",
    "sn.set(font_scale=1.4)\n",
    "sn.heatmap(df_cm_SmoteENN, annot=True, annot_kws={\"size\": 16}, fmt='g')"
   ]
  }
 ],
 "metadata": {
  "kernelspec": {
   "display_name": "conda_python3",
   "language": "python",
   "name": "conda_python3"
  },
  "language_info": {
   "codemirror_mode": {
    "name": "ipython",
    "version": 3
   },
   "file_extension": ".py",
   "mimetype": "text/x-python",
   "name": "python",
   "nbconvert_exporter": "python",
   "pygments_lexer": "ipython3",
   "version": "3.6.13"
  }
 },
 "nbformat": 4,
 "nbformat_minor": 5
}
